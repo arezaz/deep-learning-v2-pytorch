{
 "cells": [
  {
   "cell_type": "markdown",
   "metadata": {},
   "source": [
    "# Classifying Fashion-MNIST\n",
    "\n",
    "Now it's your turn to build and train a neural network. You'll be using the [Fashion-MNIST dataset](https://github.com/zalandoresearch/fashion-mnist), a drop-in replacement for the MNIST dataset. MNIST is actually quite trivial with neural networks where you can easily achieve better than 97% accuracy. Fashion-MNIST is a set of 28x28 greyscale images of clothes. It's more complex than MNIST, so it's a better representation of the actual performance of your network, and a better representation of datasets you'll use in the real world.\n",
    "\n",
    "<img src='assets/fashion-mnist-sprite.png' width=500px>\n",
    "\n",
    "In this notebook, you'll build your own neural network. For the most part, you could just copy and paste the code from Part 3, but you wouldn't be learning. It's important for you to write the code yourself and get it to work. Feel free to consult the previous notebooks though as you work through this.\n",
    "\n",
    "First off, let's load the dataset through torchvision."
   ]
  },
  {
   "cell_type": "code",
   "execution_count": 1,
   "metadata": {
    "tags": []
   },
   "outputs": [
    {
     "output_type": "stream",
     "name": "stderr",
     "text": "0it [00:00, ?it/s]Downloading http://fashion-mnist.s3-website.eu-central-1.amazonaws.com/train-images-idx3-ubyte.gz to C:\\Users\\alrre/.pytorch/F_MNIST_data/FashionMNIST\\raw\\train-images-idx3-ubyte.gz\n26427392it [00:04, 5668291.43it/s]\nExtracting C:\\Users\\alrre/.pytorch/F_MNIST_data/FashionMNIST\\raw\\train-images-idx3-ubyte.gz to C:\\Users\\alrre/.pytorch/F_MNIST_data/FashionMNIST\\raw\n0it [00:00, ?it/s]Downloading http://fashion-mnist.s3-website.eu-central-1.amazonaws.com/train-labels-idx1-ubyte.gz to C:\\Users\\alrre/.pytorch/F_MNIST_data/FashionMNIST\\raw\\train-labels-idx1-ubyte.gz\n32768it [00:00, 78871.77it/s]\n0it [00:00, ?it/s]Extracting C:\\Users\\alrre/.pytorch/F_MNIST_data/FashionMNIST\\raw\\train-labels-idx1-ubyte.gz to C:\\Users\\alrre/.pytorch/F_MNIST_data/FashionMNIST\\raw\nDownloading http://fashion-mnist.s3-website.eu-central-1.amazonaws.com/t10k-images-idx3-ubyte.gz to C:\\Users\\alrre/.pytorch/F_MNIST_data/FashionMNIST\\raw\\t10k-images-idx3-ubyte.gz\n4423680it [00:02, 2123381.30it/s]\n0it [00:00, ?it/s]Extracting C:\\Users\\alrre/.pytorch/F_MNIST_data/FashionMNIST\\raw\\t10k-images-idx3-ubyte.gz to C:\\Users\\alrre/.pytorch/F_MNIST_data/FashionMNIST\\raw\nDownloading http://fashion-mnist.s3-website.eu-central-1.amazonaws.com/t10k-labels-idx1-ubyte.gz to C:\\Users\\alrre/.pytorch/F_MNIST_data/FashionMNIST\\raw\\t10k-labels-idx1-ubyte.gz\n8192it [00:00, 29952.55it/s]\nExtracting C:\\Users\\alrre/.pytorch/F_MNIST_data/FashionMNIST\\raw\\t10k-labels-idx1-ubyte.gz to C:\\Users\\alrre/.pytorch/F_MNIST_data/FashionMNIST\\raw\nProcessing...\nDone!\n"
    }
   ],
   "source": [
    "import torch\n",
    "from torchvision import datasets, transforms\n",
    "import helper\n",
    "\n",
    "# Define a transform to normalize the data\n",
    "transform = transforms.Compose([transforms.ToTensor(),\n",
    "                                transforms.Normalize((0.5,), (0.5,))])\n",
    "# Download and load the training data\n",
    "trainset = datasets.FashionMNIST('~/.pytorch/F_MNIST_data/', download=True, train=True, transform=transform)\n",
    "trainloader = torch.utils.data.DataLoader(trainset, batch_size=64, shuffle=True)\n",
    "\n",
    "# Download and load the test data\n",
    "testset = datasets.FashionMNIST('~/.pytorch/F_MNIST_data/', download=True, train=False, transform=transform)\n",
    "testloader = torch.utils.data.DataLoader(testset, batch_size=64, shuffle=True)"
   ]
  },
  {
   "cell_type": "markdown",
   "metadata": {},
   "source": [
    "Here we can see one of the images."
   ]
  },
  {
   "cell_type": "code",
   "execution_count": 8,
   "metadata": {},
   "outputs": [
    {
     "output_type": "display_data",
     "data": {
      "text/plain": "<Figure size 432x288 with 1 Axes>",
      "image/svg+xml": "<?xml version=\"1.0\" encoding=\"utf-8\" standalone=\"no\"?>\r\n<!DOCTYPE svg PUBLIC \"-//W3C//DTD SVG 1.1//EN\"\r\n  \"http://www.w3.org/Graphics/SVG/1.1/DTD/svg11.dtd\">\r\n<!-- Created with matplotlib (https://matplotlib.org/) -->\r\n<svg height=\"231.84pt\" version=\"1.1\" viewBox=\"0 0 231.84 231.84\" width=\"231.84pt\" xmlns=\"http://www.w3.org/2000/svg\" xmlns:xlink=\"http://www.w3.org/1999/xlink\">\r\n <defs>\r\n  <style type=\"text/css\">\r\n*{stroke-linecap:butt;stroke-linejoin:round;}\r\n  </style>\r\n </defs>\r\n <g id=\"figure_1\">\r\n  <g id=\"patch_1\">\r\n   <path d=\"M 0 231.84 \r\nL 231.84 231.84 \r\nL 231.84 0 \r\nL 0 0 \r\nz\r\n\" style=\"fill:none;\"/>\r\n  </g>\r\n  <g id=\"axes_1\">\r\n   <g id=\"patch_2\">\r\n    <path d=\"M 7.2 224.64 \r\nL 224.64 224.64 \r\nL 224.64 7.2 \r\nL 7.2 7.2 \r\nz\r\n\" style=\"fill:#ffffff;\"/>\r\n   </g>\r\n   <g clip-path=\"url(#pa29242a035)\">\r\n    <image height=\"218\" id=\"image612d597961\" transform=\"scale(1 -1)translate(0 -218)\" width=\"218\" x=\"7.2\" xlink:href=\"data:image/png;base64,\r\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\" y=\"-6.64\"/>\r\n   </g>\r\n   <g id=\"matplotlib.axis_1\">\r\n    <g id=\"xtick_1\">\r\n     <g id=\"line2d_1\"/>\r\n    </g>\r\n    <g id=\"xtick_2\">\r\n     <g id=\"line2d_2\"/>\r\n    </g>\r\n    <g id=\"xtick_3\">\r\n     <g id=\"line2d_3\"/>\r\n    </g>\r\n    <g id=\"xtick_4\">\r\n     <g id=\"line2d_4\"/>\r\n    </g>\r\n    <g id=\"xtick_5\">\r\n     <g id=\"line2d_5\"/>\r\n    </g>\r\n    <g id=\"xtick_6\">\r\n     <g id=\"line2d_6\"/>\r\n    </g>\r\n   </g>\r\n   <g id=\"matplotlib.axis_2\">\r\n    <g id=\"ytick_1\">\r\n     <g id=\"line2d_7\"/>\r\n    </g>\r\n    <g id=\"ytick_2\">\r\n     <g id=\"line2d_8\"/>\r\n    </g>\r\n    <g id=\"ytick_3\">\r\n     <g id=\"line2d_9\"/>\r\n    </g>\r\n    <g id=\"ytick_4\">\r\n     <g id=\"line2d_10\"/>\r\n    </g>\r\n    <g id=\"ytick_5\">\r\n     <g id=\"line2d_11\"/>\r\n    </g>\r\n    <g id=\"ytick_6\">\r\n     <g id=\"line2d_12\"/>\r\n    </g>\r\n   </g>\r\n  </g>\r\n </g>\r\n <defs>\r\n  <clipPath id=\"pa29242a035\">\r\n   <rect height=\"217.44\" width=\"217.44\" x=\"7.2\" y=\"7.2\"/>\r\n  </clipPath>\r\n </defs>\r\n</svg>\r\n",
      "image/png": "[encoded data removed]"
     },
     "metadata": {
      "needs_background": "light"
     }
    }
   ],
   "source": [
    "image, label = next(iter(trainloader))\n",
    "helper.imshow(image[0,:]);"
   ]
  },
  {
   "cell_type": "markdown",
   "metadata": {},
   "source": [
    "## Building the network\n",
    "\n",
    "Here you should define your network. As with MNIST, each image is 28x28 which is a total of 784 pixels, and there are 10 classes. You should include at least one hidden layer. We suggest you use ReLU activations for the layers and to return the logits or log-softmax from the forward pass. It's up to you how many layers you add and the size of those layers."
   ]
  },
  {
   "cell_type": "code",
   "execution_count": 9,
   "metadata": {},
   "outputs": [],
   "source": [
    "from torch import nn, optim\n",
    "import torch.nn.functional as F"
   ]
  },
  {
   "cell_type": "code",
   "execution_count": 10,
   "metadata": {},
   "outputs": [],
   "source": [
    "# TODO: Define your network architecture here\n",
    "class Classifier(nn.Module):\n",
    "    def __init__(self):\n",
    "        super().__init__()\n",
    "        self.fc1 = nn.Linear(784, 256)\n",
    "        self.fc2 = nn.Linear(256, 128)\n",
    "        self.fc3 = nn.Linear(128, 64)\n",
    "        self.fc4 = nn.Linear(64, 10)\n",
    "        \n",
    "    def forward(self, x):\n",
    "        # make sure input tensor is flattened\n",
    "        x = x.view(x.shape[0], -1)\n",
    "        \n",
    "        x = F.relu(self.fc1(x))\n",
    "        x = F.relu(self.fc2(x))\n",
    "        x = F.relu(self.fc3(x))\n",
    "        x = F.log_softmax(self.fc4(x), dim=1)\n",
    "        \n",
    "        return x"
   ]
  },
  {
   "cell_type": "markdown",
   "metadata": {},
   "source": [
    "# Train the network\n",
    "\n",
    "Now you should create your network and train it. First you'll want to define [the criterion](http://pytorch.org/docs/master/nn.html#loss-functions) (something like `nn.CrossEntropyLoss` or `nn.NLLLoss`) and [the optimizer](http://pytorch.org/docs/master/optim.html) (typically `optim.SGD` or `optim.Adam`).\n",
    "\n",
    "Then write the training code. Remember the training pass is a fairly straightforward process:\n",
    "\n",
    "* Make a forward pass through the network to get the logits \n",
    "* Use the logits to calculate the loss\n",
    "* Perform a backward pass through the network with `loss.backward()` to calculate the gradients\n",
    "* Take a step with the optimizer to update the weights\n",
    "\n",
    "By adjusting the hyperparameters (hidden units, learning rate, etc), you should be able to get the training loss below 0.4."
   ]
  },
  {
   "cell_type": "code",
   "execution_count": 11,
   "metadata": {},
   "outputs": [],
   "source": [
    "# TODO: Create the network, define the criterion and optimizer\n",
    "model = Classifier()\n",
    "criterion = nn.NLLLoss()\n",
    "optimizer = optim.Adam(model.parameters(), lr=0.003)"
   ]
  },
  {
   "cell_type": "code",
   "execution_count": 13,
   "metadata": {},
   "outputs": [
    {
     "output_type": "execute_result",
     "data": {
      "text/plain": "Classifier(\n  (fc1): Linear(in_features=784, out_features=256, bias=True)\n  (fc2): Linear(in_features=256, out_features=128, bias=True)\n  (fc3): Linear(in_features=128, out_features=64, bias=True)\n  (fc4): Linear(in_features=64, out_features=10, bias=True)\n)"
     },
     "metadata": {},
     "execution_count": 13
    }
   ],
   "source": [
    "model"
   ]
  },
  {
   "cell_type": "code",
   "execution_count": 14,
   "metadata": {
    "tags": []
   },
   "outputs": [
    {
     "output_type": "stream",
     "name": "stdout",
     "text": "Training loss: 0.5140964128633043\nTraining loss: 0.39306770824293086\nTraining loss: 0.3575600864393498\nTraining loss: 0.33381637402657255\nTraining loss: 0.3176856362806963\n"
    }
   ],
   "source": [
    "# TODO: Train the network here\n",
    "epochs = 5\n",
    "\n",
    "for e in range(epochs):\n",
    "    running_loss = 0\n",
    "    for images, labels in trainloader:\n",
    "        log_ps = model(images)\n",
    "        loss = criterion(log_ps, labels)\n",
    "        \n",
    "        optimizer.zero_grad()\n",
    "        loss.backward()\n",
    "        optimizer.step()\n",
    "        \n",
    "        running_loss += loss.item()\n",
    "    else:\n",
    "        print(f\"Training loss: {running_loss/len(trainloader)}\")"
   ]
  },
  {
   "cell_type": "code",
   "execution_count": 15,
   "metadata": {},
   "outputs": [
    {
     "output_type": "display_data",
     "data": {
      "text/plain": "<Figure size 432x648 with 2 Axes>",
      "image/png": "[encoded data removed]"
     },
     "metadata": {
      "image/png": {
       "width": 424,
       "height": 216
      },
      "needs_background": "light"
     }
    }
   ],
   "source": [
    "%matplotlib inline\n",
    "%config InlineBackend.figure_format = 'retina'\n",
    "\n",
    "import helper\n",
    "\n",
    "# Test out your network!\n",
    "\n",
    "dataiter = iter(testloader)\n",
    "images, labels = dataiter.next()\n",
    "img = images[1]\n",
    "\n",
    "# TODO: Calculate the class probabilities (softmax) for img\n",
    "ps = torch.exp(model(img))\n",
    "\n",
    "# Plot the image and probabilities\n",
    "helper.view_classify(img, ps, version='Fashion')"
   ]
  }
 ],
 "metadata": {
  "kernelspec": {
   "display_name": "Python 3",
   "language": "python",
   "name": "python3"
  },
  "language_info": {
   "codemirror_mode": {
    "name": "ipython",
    "version": 3
   },
   "file_extension": ".py",
   "mimetype": "text/x-python",
   "name": "python",
   "nbconvert_exporter": "python",
   "pygments_lexer": "ipython3",
   "version": "3.7.6-final"
  }
 },
 "nbformat": 4,
 "nbformat_minor": 2
}